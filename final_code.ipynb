{
  "nbformat": 4,
  "nbformat_minor": 0,
  "metadata": {
    "colab": {
      "name": "final code.ipynb",
      "provenance": [],
      "collapsed_sections": []
    },
    "kernelspec": {
      "name": "python3",
      "display_name": "Python 3"
    }
  },
  "cells": [
    {
      "cell_type": "code",
      "metadata": {
        "id": "q6rHBQQDEH94"
      },
      "source": [
        "Link to download the dataset - https://datahack.analyticsvidhya.com/contest/practice-problem-loan-prediction-iii/#ProblemStatement"
      ],
      "execution_count": null,
      "outputs": []
    },
    {
      "cell_type": "markdown",
      "metadata": {
        "id": "r1-Ke-z4AhPh"
      },
      "source": [
        "# **Importing the libraries**"
      ]
    },
    {
      "cell_type": "code",
      "metadata": {
        "id": "BsuSgP_wvXas"
      },
      "source": [
        "import numpy as np\n",
        "import pandas as pd\n",
        "import matplotlib.pyplot as plt"
      ],
      "execution_count": 1,
      "outputs": []
    },
    {
      "cell_type": "markdown",
      "metadata": {
        "id": "hbb0bwemAqfx"
      },
      "source": [
        "# **Importing the dataset**"
      ]
    },
    {
      "cell_type": "code",
      "metadata": {
        "id": "HaSRmUEUwYW6"
      },
      "source": [
        "dataset_train = pd.read_csv('./drive/My Drive/Analytics Vidhya Challenges/Loan Prediction/train.csv')\n",
        "dataset_test = pd.read_csv('./drive/My Drive/Analytics Vidhya Challenges/Loan Prediction/test.csv')"
      ],
      "execution_count": 2,
      "outputs": []
    },
    {
      "cell_type": "markdown",
      "metadata": {
        "id": "h7VjMbfH1BLO"
      },
      "source": [
        "Study the datasets"
      ]
    },
    {
      "cell_type": "code",
      "metadata": {
        "id": "qNHYmP4fxBpT",
        "outputId": "15f0ac23-ba4b-4dc5-f10b-d2c0e51126cf",
        "colab": {
          "base_uri": "https://localhost:8080/",
          "height": 369
        }
      },
      "source": [
        " dataset_train.info()"
      ],
      "execution_count": 3,
      "outputs": [
        {
          "output_type": "stream",
          "text": [
            "<class 'pandas.core.frame.DataFrame'>\n",
            "RangeIndex: 614 entries, 0 to 613\n",
            "Data columns (total 13 columns):\n",
            " #   Column             Non-Null Count  Dtype  \n",
            "---  ------             --------------  -----  \n",
            " 0   Loan_ID            614 non-null    object \n",
            " 1   Gender             601 non-null    object \n",
            " 2   Married            611 non-null    object \n",
            " 3   Dependents         599 non-null    object \n",
            " 4   Education          614 non-null    object \n",
            " 5   Self_Employed      582 non-null    object \n",
            " 6   ApplicantIncome    614 non-null    int64  \n",
            " 7   CoapplicantIncome  614 non-null    float64\n",
            " 8   LoanAmount         592 non-null    float64\n",
            " 9   Loan_Amount_Term   600 non-null    float64\n",
            " 10  Credit_History     564 non-null    float64\n",
            " 11  Property_Area      614 non-null    object \n",
            " 12  Loan_Status        614 non-null    object \n",
            "dtypes: float64(4), int64(1), object(8)\n",
            "memory usage: 62.5+ KB\n"
          ],
          "name": "stdout"
        }
      ]
    },
    {
      "cell_type": "code",
      "metadata": {
        "id": "4cRvM5YCx0ES",
        "outputId": "ef96cf0a-401c-48e3-b0b6-8a09b4de4e0e",
        "colab": {
          "base_uri": "https://localhost:8080/",
          "height": 351
        }
      },
      "source": [
        "dataset_test.info()"
      ],
      "execution_count": 4,
      "outputs": [
        {
          "output_type": "stream",
          "text": [
            "<class 'pandas.core.frame.DataFrame'>\n",
            "RangeIndex: 367 entries, 0 to 366\n",
            "Data columns (total 12 columns):\n",
            " #   Column             Non-Null Count  Dtype  \n",
            "---  ------             --------------  -----  \n",
            " 0   Loan_ID            367 non-null    object \n",
            " 1   Gender             356 non-null    object \n",
            " 2   Married            367 non-null    object \n",
            " 3   Dependents         357 non-null    object \n",
            " 4   Education          367 non-null    object \n",
            " 5   Self_Employed      344 non-null    object \n",
            " 6   ApplicantIncome    367 non-null    int64  \n",
            " 7   CoapplicantIncome  367 non-null    int64  \n",
            " 8   LoanAmount         362 non-null    float64\n",
            " 9   Loan_Amount_Term   361 non-null    float64\n",
            " 10  Credit_History     338 non-null    float64\n",
            " 11  Property_Area      367 non-null    object \n",
            "dtypes: float64(3), int64(2), object(7)\n",
            "memory usage: 34.5+ KB\n"
          ],
          "name": "stdout"
        }
      ]
    },
    {
      "cell_type": "code",
      "metadata": {
        "id": "dBuuLuS1x4e7",
        "outputId": "9bf7c912-cb41-4adb-9c16-9dc914b35c2b",
        "colab": {
          "base_uri": "https://localhost:8080/",
          "height": 263
        }
      },
      "source": [
        "dataset_train.dtypes"
      ],
      "execution_count": 5,
      "outputs": [
        {
          "output_type": "execute_result",
          "data": {
            "text/plain": [
              "Loan_ID               object\n",
              "Gender                object\n",
              "Married               object\n",
              "Dependents            object\n",
              "Education             object\n",
              "Self_Employed         object\n",
              "ApplicantIncome        int64\n",
              "CoapplicantIncome    float64\n",
              "LoanAmount           float64\n",
              "Loan_Amount_Term     float64\n",
              "Credit_History       float64\n",
              "Property_Area         object\n",
              "Loan_Status           object\n",
              "dtype: object"
            ]
          },
          "metadata": {
            "tags": []
          },
          "execution_count": 5
        }
      ]
    },
    {
      "cell_type": "code",
      "metadata": {
        "id": "sepi5ijTx7D4",
        "outputId": "3227c852-4d46-4bba-91f6-12e5306ce7da",
        "colab": {
          "base_uri": "https://localhost:8080/",
          "height": 246
        }
      },
      "source": [
        "dataset_test.dtypes"
      ],
      "execution_count": 6,
      "outputs": [
        {
          "output_type": "execute_result",
          "data": {
            "text/plain": [
              "Loan_ID               object\n",
              "Gender                object\n",
              "Married               object\n",
              "Dependents            object\n",
              "Education             object\n",
              "Self_Employed         object\n",
              "ApplicantIncome        int64\n",
              "CoapplicantIncome      int64\n",
              "LoanAmount           float64\n",
              "Loan_Amount_Term     float64\n",
              "Credit_History       float64\n",
              "Property_Area         object\n",
              "dtype: object"
            ]
          },
          "metadata": {
            "tags": []
          },
          "execution_count": 6
        }
      ]
    },
    {
      "cell_type": "markdown",
      "metadata": {
        "id": "8h7-82aeA-NY"
      },
      "source": [
        "# **Data Preprocessing - 1**"
      ]
    },
    {
      "cell_type": "markdown",
      "metadata": {
        "id": "7i7y61u_1Ens"
      },
      "source": [
        "Taking care of duplicate values"
      ]
    },
    {
      "cell_type": "code",
      "metadata": {
        "id": "stokSBYayzon",
        "outputId": "562348be-f5ca-41e1-de61-0fc221bfc9d4",
        "colab": {
          "base_uri": "https://localhost:8080/",
          "height": 34
        }
      },
      "source": [
        "dataset_train.duplicated().sum()"
      ],
      "execution_count": 7,
      "outputs": [
        {
          "output_type": "execute_result",
          "data": {
            "text/plain": [
              "0"
            ]
          },
          "metadata": {
            "tags": []
          },
          "execution_count": 7
        }
      ]
    },
    {
      "cell_type": "code",
      "metadata": {
        "id": "vk6PAEh8y3tT",
        "outputId": "e36209c4-9450-4d93-f2eb-424761525e64",
        "colab": {
          "base_uri": "https://localhost:8080/",
          "height": 34
        }
      },
      "source": [
        "dataset_test.duplicated().sum()"
      ],
      "execution_count": 8,
      "outputs": [
        {
          "output_type": "execute_result",
          "data": {
            "text/plain": [
              "0"
            ]
          },
          "metadata": {
            "tags": []
          },
          "execution_count": 8
        }
      ]
    },
    {
      "cell_type": "markdown",
      "metadata": {
        "id": "qDJKB7rC1Ibk"
      },
      "source": [
        "Taking care of null/missing values"
      ]
    },
    {
      "cell_type": "code",
      "metadata": {
        "id": "ssyIQU0Pz-KI",
        "outputId": "858ff2e5-295e-44e3-da49-d412a72df515",
        "colab": {
          "base_uri": "https://localhost:8080/",
          "height": 263
        }
      },
      "source": [
        "dataset_train.isnull().sum()"
      ],
      "execution_count": 9,
      "outputs": [
        {
          "output_type": "execute_result",
          "data": {
            "text/plain": [
              "Loan_ID               0\n",
              "Gender               13\n",
              "Married               3\n",
              "Dependents           15\n",
              "Education             0\n",
              "Self_Employed        32\n",
              "ApplicantIncome       0\n",
              "CoapplicantIncome     0\n",
              "LoanAmount           22\n",
              "Loan_Amount_Term     14\n",
              "Credit_History       50\n",
              "Property_Area         0\n",
              "Loan_Status           0\n",
              "dtype: int64"
            ]
          },
          "metadata": {
            "tags": []
          },
          "execution_count": 9
        }
      ]
    },
    {
      "cell_type": "code",
      "metadata": {
        "id": "_8OxjpJr0eOj"
      },
      "source": [
        "dataset_train['Gender'] = dataset_train['Gender'].fillna(dataset_train['Gender'].mode()[0])"
      ],
      "execution_count": 10,
      "outputs": []
    },
    {
      "cell_type": "code",
      "metadata": {
        "id": "eIAWq2Fq0wbz"
      },
      "source": [
        "dataset_train['Married'] = dataset_train['Married'].fillna(dataset_train['Married'].mode()[0])"
      ],
      "execution_count": 11,
      "outputs": []
    },
    {
      "cell_type": "code",
      "metadata": {
        "id": "coDNY5tN1uFw"
      },
      "source": [
        "dataset_train['Dependents'] = dataset_train['Dependents'].fillna(dataset_train['Dependents'].mode()[0])"
      ],
      "execution_count": 12,
      "outputs": []
    },
    {
      "cell_type": "code",
      "metadata": {
        "id": "UIFpgwob2NFL"
      },
      "source": [
        "dataset_train['LoanAmount'] = dataset_train['LoanAmount'].fillna(dataset_train['LoanAmount'].median())\n",
        "dataset_train['Loan_Amount_Term'] = dataset_train['Loan_Amount_Term'].fillna(dataset_train['Loan_Amount_Term'].mode()[0])"
      ],
      "execution_count": 13,
      "outputs": []
    },
    {
      "cell_type": "code",
      "metadata": {
        "id": "kvCC-TgL2oT5"
      },
      "source": [
        "dataset_train['Self_Employed'] = dataset_train['Self_Employed'].fillna(dataset_train['Self_Employed'].mode()[0])\n",
        "dataset_train['Credit_History'] = dataset_train['Credit_History'].fillna(dataset_train['Credit_History'].mode()[0])"
      ],
      "execution_count": 14,
      "outputs": []
    },
    {
      "cell_type": "code",
      "metadata": {
        "id": "uf3cDNvA3Ndu",
        "outputId": "77b8819e-f6dd-4cdf-9e00-211f5ceee774",
        "colab": {
          "base_uri": "https://localhost:8080/",
          "height": 246
        }
      },
      "source": [
        "dataset_test.isnull().sum()"
      ],
      "execution_count": 15,
      "outputs": [
        {
          "output_type": "execute_result",
          "data": {
            "text/plain": [
              "Loan_ID               0\n",
              "Gender               11\n",
              "Married               0\n",
              "Dependents           10\n",
              "Education             0\n",
              "Self_Employed        23\n",
              "ApplicantIncome       0\n",
              "CoapplicantIncome     0\n",
              "LoanAmount            5\n",
              "Loan_Amount_Term      6\n",
              "Credit_History       29\n",
              "Property_Area         0\n",
              "dtype: int64"
            ]
          },
          "metadata": {
            "tags": []
          },
          "execution_count": 15
        }
      ]
    },
    {
      "cell_type": "code",
      "metadata": {
        "id": "VnezRQXx3vpr"
      },
      "source": [
        "dataset_test['Gender'] = dataset_test['Gender'].fillna(dataset_test['Gender'].mode()[0])\n",
        "dataset_test['Dependents'] = dataset_test['Dependents'].fillna(dataset_test['Dependents'].mode()[0])\n",
        "dataset_test['Self_Employed'] = dataset_test['Self_Employed'].fillna(dataset_test['Self_Employed'].mode()[0])\n",
        "dataset_test['LoanAmount'] = dataset_test['LoanAmount'].fillna(dataset_test['LoanAmount'].median())\n",
        "dataset_test['Loan_Amount_Term'] = dataset_test['Loan_Amount_Term'].fillna(dataset_test['Loan_Amount_Term'].mode()[0])\n",
        "dataset_test['Credit_History'] = dataset_test['Credit_History'].fillna(dataset_test['Credit_History'].mode()[0])"
      ],
      "execution_count": 16,
      "outputs": []
    },
    {
      "cell_type": "code",
      "metadata": {
        "id": "qJ-q0w58Ik_s"
      },
      "source": [
        "dataset_train['TotalIncome'] = dataset_train['ApplicantIncome'] + dataset_train['CoapplicantIncome']"
      ],
      "execution_count": 17,
      "outputs": []
    },
    {
      "cell_type": "markdown",
      "metadata": {
        "id": "xoXfRsrMCbRi"
      },
      "source": [
        "# **Exploratory Data Analysis**"
      ]
    },
    {
      "cell_type": "code",
      "metadata": {
        "id": "uGXhitGuIcuy"
      },
      "source": [
        "import seaborn as sns"
      ],
      "execution_count": 18,
      "outputs": []
    },
    {
      "cell_type": "code",
      "metadata": {
        "id": "CkIL4cKmJ0Rt",
        "outputId": "94ff7632-9aa6-4c0e-acb2-581412d50bfd",
        "colab": {
          "base_uri": "https://localhost:8080/",
          "height": 352
        }
      },
      "source": [
        "sns.distplot(dataset_train['TotalIncome'])"
      ],
      "execution_count": 19,
      "outputs": [
        {
          "output_type": "stream",
          "text": [
            "/usr/local/lib/python3.6/dist-packages/seaborn/distributions.py:2551: FutureWarning: `distplot` is a deprecated function and will be removed in a future version. Please adapt your code to use either `displot` (a figure-level function with similar flexibility) or `histplot` (an axes-level function for histograms).\n",
            "  warnings.warn(msg, FutureWarning)\n"
          ],
          "name": "stderr"
        },
        {
          "output_type": "execute_result",
          "data": {
            "text/plain": [
              "<matplotlib.axes._subplots.AxesSubplot at 0x7fdcfcbff208>"
            ]
          },
          "metadata": {
            "tags": []
          },
          "execution_count": 19
        },
        {
          "output_type": "display_data",
          "data": {
            "image/png": "[encoded data removed]",
            "text/plain": [
              "<Figure size 432x288 with 1 Axes>"
            ]
          },
          "metadata": {
            "tags": [],
            "needs_background": "light"
          }
        }
      ]
    },
    {
      "cell_type": "code",
      "metadata": {
        "id": "QbSv_KC4Nq_1"
      },
      "source": [
        "dataset_train['TotalIncome_log'] = np.log(dataset_train['TotalIncome'])"
      ],
      "execution_count": 20,
      "outputs": []
    },
    {
      "cell_type": "code",
      "metadata": {
        "id": "9aNwzvLgOCjU",
        "outputId": "a91bf65b-a246-4dfc-bed4-bb166e91c08d",
        "colab": {
          "base_uri": "https://localhost:8080/",
          "height": 353
        }
      },
      "source": [
        "sns.distplot(dataset_train['TotalIncome_log'])"
      ],
      "execution_count": 21,
      "outputs": [
        {
          "output_type": "stream",
          "text": [
            "/usr/local/lib/python3.6/dist-packages/seaborn/distributions.py:2551: FutureWarning: `distplot` is a deprecated function and will be removed in a future version. Please adapt your code to use either `displot` (a figure-level function with similar flexibility) or `histplot` (an axes-level function for histograms).\n",
            "  warnings.warn(msg, FutureWarning)\n"
          ],
          "name": "stderr"
        },
        {
          "output_type": "execute_result",
          "data": {
            "text/plain": [
              "<matplotlib.axes._subplots.AxesSubplot at 0x7fdcfc354f98>"
            ]
          },
          "metadata": {
            "tags": []
          },
          "execution_count": 21
        },
        {
          "output_type": "display_data",
          "data": {
            "image/png": "[encoded data removed]",
            "text/plain": [
              "<Figure size 432x288 with 1 Axes>"
            ]
          },
          "metadata": {
            "tags": [],
            "needs_background": "light"
          }
        }
      ]
    },
    {
      "cell_type": "code",
      "metadata": {
        "id": "q3CfkqZZKABZ",
        "outputId": "d1ad2df8-71d2-4f78-c0ac-f8c54b83ec3b",
        "colab": {
          "base_uri": "https://localhost:8080/",
          "height": 352
        }
      },
      "source": [
        "sns.distplot(dataset_train['LoanAmount'])"
      ],
      "execution_count": 22,
      "outputs": [
        {
          "output_type": "stream",
          "text": [
            "/usr/local/lib/python3.6/dist-packages/seaborn/distributions.py:2551: FutureWarning: `distplot` is a deprecated function and will be removed in a future version. Please adapt your code to use either `displot` (a figure-level function with similar flexibility) or `histplot` (an axes-level function for histograms).\n",
            "  warnings.warn(msg, FutureWarning)\n"
          ],
          "name": "stderr"
        },
        {
          "output_type": "execute_result",
          "data": {
            "text/plain": [
              "<matplotlib.axes._subplots.AxesSubplot at 0x7fdcfbe4d828>"
            ]
          },
          "metadata": {
            "tags": []
          },
          "execution_count": 22
        },
        {
          "output_type": "display_data",
          "data": {
            "image/png": "[encoded data removed]",
            "text/plain": [
              "<Figure size 432x288 with 1 Axes>"
            ]
          },
          "metadata": {
            "tags": [],
            "needs_background": "light"
          }
        }
      ]
    },
    {
      "cell_type": "code",
      "metadata": {
        "id": "5xUo1sTHPNhI"
      },
      "source": [
        "dataset_train['LoanAmount_log'] = np.log(dataset_train['LoanAmount'])"
      ],
      "execution_count": 23,
      "outputs": []
    },
    {
      "cell_type": "code",
      "metadata": {
        "id": "e8V8KZbgPaL4",
        "outputId": "d43c9e2d-02e8-4cd7-e3cc-f71c8ef4e6d0",
        "colab": {
          "base_uri": "https://localhost:8080/",
          "height": 353
        }
      },
      "source": [
        "sns.distplot(dataset_train['LoanAmount_log'])"
      ],
      "execution_count": 24,
      "outputs": [
        {
          "output_type": "stream",
          "text": [
            "/usr/local/lib/python3.6/dist-packages/seaborn/distributions.py:2551: FutureWarning: `distplot` is a deprecated function and will be removed in a future version. Please adapt your code to use either `displot` (a figure-level function with similar flexibility) or `histplot` (an axes-level function for histograms).\n",
            "  warnings.warn(msg, FutureWarning)\n"
          ],
          "name": "stderr"
        },
        {
          "output_type": "execute_result",
          "data": {
            "text/plain": [
              "<matplotlib.axes._subplots.AxesSubplot at 0x7fdcfbd34358>"
            ]
          },
          "metadata": {
            "tags": []
          },
          "execution_count": 24
        },
        {
          "output_type": "display_data",
          "data": {
            "image/png": "[encoded data removed]",
            "text/plain": [
              "<Figure size 432x288 with 1 Axes>"
            ]
          },
          "metadata": {
            "tags": [],
            "needs_background": "light"
          }
        }
      ]
    },
    {
      "cell_type": "code",
      "metadata": {
        "id": "gb6qBSPqKK8I",
        "outputId": "a3fdc315-ca82-4c0e-a797-68ffa2d88f79",
        "colab": {
          "base_uri": "https://localhost:8080/",
          "height": 386
        }
      },
      "source": [
        "sns.displot(dataset_train['Loan_Amount_Term'])"
      ],
      "execution_count": 25,
      "outputs": [
        {
          "output_type": "execute_result",
          "data": {
            "text/plain": [
              "<seaborn.axisgrid.FacetGrid at 0x7fdcfbc7ea90>"
            ]
          },
          "metadata": {
            "tags": []
          },
          "execution_count": 25
        },
        {
          "output_type": "display_data",
          "data": {
            "image/png": "[encoded data removed]",
            "text/plain": [
              "<Figure size 360x360 with 1 Axes>"
            ]
          },
          "metadata": {
            "tags": [],
            "needs_background": "light"
          }
        }
      ]
    },
    {
      "cell_type": "code",
      "metadata": {
        "id": "PbY9jAoSSaJE"
      },
      "source": [
        "dataset_train.drop(['ApplicantIncome', 'CoapplicantIncome','TotalIncome', 'LoanAmount'], axis=1, inplace=True)"
      ],
      "execution_count": 27,
      "outputs": []
    },
    {
      "cell_type": "code",
      "metadata": {
        "id": "id4xXZ-EVWnu"
      },
      "source": [
        "dataset_test['TotalIncome'] = dataset_test['ApplicantIncome'] + dataset_test['CoapplicantIncome']\n",
        "dataset_test['TotalIncome_log'] = np.log(dataset_test['TotalIncome'])\n",
        "dataset_test['LoanAmount_log'] = np.log(dataset_test['LoanAmount'])\n",
        "dataset_test.drop(['ApplicantIncome', 'CoapplicantIncome','TotalIncome', 'LoanAmount'], axis=1, inplace=True)"
      ],
      "execution_count": 28,
      "outputs": []
    },
    {
      "cell_type": "markdown",
      "metadata": {
        "id": "AJsGqGm0Cizm"
      },
      "source": [
        "# **Data Preprocessing - 2**"
      ]
    },
    {
      "cell_type": "code",
      "metadata": {
        "id": "zXA6gkKmAIW3",
        "outputId": "9106f60e-b849-43e6-f776-a116ffb99fba",
        "colab": {
          "base_uri": "https://localhost:8080/",
          "height": 195
        }
      },
      "source": [
        "dataset_train.head(5)"
      ],
      "execution_count": 32,
      "outputs": [
        {
          "output_type": "execute_result",
          "data": {
            "text/html": [
              "<div>\n",
              "<style scoped>\n",
              "    .dataframe tbody tr th:only-of-type {\n",
              "        vertical-align: middle;\n",
              "    }\n",
              "\n",
              "    .dataframe tbody tr th {\n",
              "        vertical-align: top;\n",
              "    }\n",
              "\n",
              "    .dataframe thead th {\n",
              "        text-align: right;\n",
              "    }\n",
              "</style>\n",
              "<table border=\"1\" class=\"dataframe\">\n",
              "  <thead>\n",
              "    <tr style=\"text-align: right;\">\n",
              "      <th></th>\n",
              "      <th>Loan_ID</th>\n",
              "      <th>Gender</th>\n",
              "      <th>Married</th>\n",
              "      <th>Dependents</th>\n",
              "      <th>Education</th>\n",
              "      <th>Self_Employed</th>\n",
              "      <th>Loan_Amount_Term</th>\n",
              "      <th>Credit_History</th>\n",
              "      <th>Property_Area</th>\n",
              "      <th>Loan_Status</th>\n",
              "      <th>TotalIncome_log</th>\n",
              "      <th>LoanAmount_log</th>\n",
              "    </tr>\n",
              "  </thead>\n",
              "  <tbody>\n",
              "    <tr>\n",
              "      <th>0</th>\n",
              "      <td>LP001002</td>\n",
              "      <td>Male</td>\n",
              "      <td>No</td>\n",
              "      <td>0</td>\n",
              "      <td>Graduate</td>\n",
              "      <td>No</td>\n",
              "      <td>360.0</td>\n",
              "      <td>1.0</td>\n",
              "      <td>Urban</td>\n",
              "      <td>Y</td>\n",
              "      <td>8.674026</td>\n",
              "      <td>4.852030</td>\n",
              "    </tr>\n",
              "    <tr>\n",
              "      <th>1</th>\n",
              "      <td>LP001003</td>\n",
              "      <td>Male</td>\n",
              "      <td>Yes</td>\n",
              "      <td>1</td>\n",
              "      <td>Graduate</td>\n",
              "      <td>No</td>\n",
              "      <td>360.0</td>\n",
              "      <td>1.0</td>\n",
              "      <td>Rural</td>\n",
              "      <td>N</td>\n",
              "      <td>8.714568</td>\n",
              "      <td>4.852030</td>\n",
              "    </tr>\n",
              "    <tr>\n",
              "      <th>2</th>\n",
              "      <td>LP001005</td>\n",
              "      <td>Male</td>\n",
              "      <td>Yes</td>\n",
              "      <td>0</td>\n",
              "      <td>Graduate</td>\n",
              "      <td>Yes</td>\n",
              "      <td>360.0</td>\n",
              "      <td>1.0</td>\n",
              "      <td>Urban</td>\n",
              "      <td>Y</td>\n",
              "      <td>8.006368</td>\n",
              "      <td>4.189655</td>\n",
              "    </tr>\n",
              "    <tr>\n",
              "      <th>3</th>\n",
              "      <td>LP001006</td>\n",
              "      <td>Male</td>\n",
              "      <td>Yes</td>\n",
              "      <td>0</td>\n",
              "      <td>Not Graduate</td>\n",
              "      <td>No</td>\n",
              "      <td>360.0</td>\n",
              "      <td>1.0</td>\n",
              "      <td>Urban</td>\n",
              "      <td>Y</td>\n",
              "      <td>8.505323</td>\n",
              "      <td>4.787492</td>\n",
              "    </tr>\n",
              "    <tr>\n",
              "      <th>4</th>\n",
              "      <td>LP001008</td>\n",
              "      <td>Male</td>\n",
              "      <td>No</td>\n",
              "      <td>0</td>\n",
              "      <td>Graduate</td>\n",
              "      <td>No</td>\n",
              "      <td>360.0</td>\n",
              "      <td>1.0</td>\n",
              "      <td>Urban</td>\n",
              "      <td>Y</td>\n",
              "      <td>8.699515</td>\n",
              "      <td>4.948760</td>\n",
              "    </tr>\n",
              "  </tbody>\n",
              "</table>\n",
              "</div>"
            ],
            "text/plain": [
              "    Loan_ID Gender Married  ... Loan_Status TotalIncome_log LoanAmount_log\n",
              "0  LP001002   Male      No  ...           Y        8.674026       4.852030\n",
              "1  LP001003   Male     Yes  ...           N        8.714568       4.852030\n",
              "2  LP001005   Male     Yes  ...           Y        8.006368       4.189655\n",
              "3  LP001006   Male     Yes  ...           Y        8.505323       4.787492\n",
              "4  LP001008   Male      No  ...           Y        8.699515       4.948760\n",
              "\n",
              "[5 rows x 12 columns]"
            ]
          },
          "metadata": {
            "tags": []
          },
          "execution_count": 32
        }
      ]
    },
    {
      "cell_type": "markdown",
      "metadata": {
        "id": "Kfsc-8f-4rH-"
      },
      "source": [
        "Encoding the Categorical Data"
      ]
    },
    {
      "cell_type": "code",
      "metadata": {
        "id": "vxe4k8Eg4xKq"
      },
      "source": [
        "x = dataset_train.iloc[:, [1,2,3,4,5,6,7,8,10,11]].values\n",
        "y = dataset_train.iloc[:, 9].values"
      ],
      "execution_count": 33,
      "outputs": []
    },
    {
      "cell_type": "code",
      "metadata": {
        "id": "vR5n7EjW7e_z",
        "outputId": "6eb28e9e-94b6-40c8-cea3-f954f51c55a1",
        "colab": {
          "base_uri": "https://localhost:8080/",
          "height": 52
        }
      },
      "source": [
        "print(x[0])"
      ],
      "execution_count": 34,
      "outputs": [
        {
          "output_type": "stream",
          "text": [
            "['Male' 'No' '0' 'Graduate' 'No' 360.0 1.0 'Urban' 8.674025985443025\n",
            " 4.852030263919617]\n"
          ],
          "name": "stdout"
        }
      ]
    },
    {
      "cell_type": "markdown",
      "metadata": {
        "id": "JNcRab7i9_i6"
      },
      "source": [
        "1. OneHotEncoder"
      ]
    },
    {
      "cell_type": "code",
      "metadata": {
        "id": "cD7bL_dk51eu"
      },
      "source": [
        "from sklearn.compose import ColumnTransformer\n",
        "from sklearn.preprocessing import OneHotEncoder\n",
        "ct = ColumnTransformer(transformers = [('encoder', OneHotEncoder(), [2, 7])], remainder='passthrough')\n",
        "x = np.array(ct.fit_transform(x))"
      ],
      "execution_count": 35,
      "outputs": []
    },
    {
      "cell_type": "code",
      "metadata": {
        "id": "rzdgOxqH63WS",
        "outputId": "2a944183-9ef1-40af-ac3b-b3023359fdc2",
        "colab": {
          "base_uri": "https://localhost:8080/",
          "height": 52
        }
      },
      "source": [
        "print(x[0])"
      ],
      "execution_count": 36,
      "outputs": [
        {
          "output_type": "stream",
          "text": [
            "[1.0 0.0 0.0 0.0 0.0 0.0 1.0 'Male' 'No' 'Graduate' 'No' 360.0 1.0\n",
            " 8.674025985443025 4.852030263919617]\n"
          ],
          "name": "stdout"
        }
      ]
    },
    {
      "cell_type": "markdown",
      "metadata": {
        "id": "99uyFemL-B9G"
      },
      "source": [
        "2. LabelEncoder"
      ]
    },
    {
      "cell_type": "code",
      "metadata": {
        "id": "XwjBcRgu77Ig"
      },
      "source": [
        "from sklearn.preprocessing import LabelEncoder\n",
        "le_gender, le_married, le_education, le_self_employed, le_y = LabelEncoder(), LabelEncoder(), LabelEncoder(), LabelEncoder(), LabelEncoder()\n",
        "x[:, 7] = le_gender.fit_transform(x[:, 7])\n",
        "x[:, 8] = le_married.fit_transform(x[:, 8])\n",
        "x[:, 9] = le_education.fit_transform(x[:, 9])\n",
        "x[:, 10] = le_self_employed.fit_transform(x[:, 10])\n",
        "\n",
        "y = le_y.fit_transform(y)"
      ],
      "execution_count": 37,
      "outputs": []
    },
    {
      "cell_type": "code",
      "metadata": {
        "id": "AFnixPib9n_y",
        "outputId": "6b2ee982-17d1-4e4c-f850-33808b690848",
        "colab": {
          "base_uri": "https://localhost:8080/",
          "height": 52
        }
      },
      "source": [
        "print(x[0])"
      ],
      "execution_count": 38,
      "outputs": [
        {
          "output_type": "stream",
          "text": [
            "[1.0 0.0 0.0 0.0 0.0 0.0 1.0 1 0 0 0 360.0 1.0 8.674025985443025\n",
            " 4.852030263919617]\n"
          ],
          "name": "stdout"
        }
      ]
    },
    {
      "cell_type": "code",
      "metadata": {
        "id": "0hAcpKNhWXp2"
      },
      "source": [
        "x = np.asarray(x).astype(np.float32)"
      ],
      "execution_count": 39,
      "outputs": []
    },
    {
      "cell_type": "markdown",
      "metadata": {
        "id": "dqug4sxJ-Qvz"
      },
      "source": [
        "Splitting the dataset into Training set and Test set"
      ]
    },
    {
      "cell_type": "code",
      "metadata": {
        "id": "SfTXAt8Q-TnA"
      },
      "source": [
        "from sklearn.model_selection import train_test_split\n",
        "x_train, x_test, y_train, y_test = train_test_split(x, y, test_size=0.2, random_state=42)"
      ],
      "execution_count": 43,
      "outputs": []
    },
    {
      "cell_type": "markdown",
      "metadata": {
        "id": "ajlEwRYi_fIH"
      },
      "source": [
        "Feature Scaling"
      ]
    },
    {
      "cell_type": "code",
      "metadata": {
        "id": "6t_y08Zo_J51"
      },
      "source": [
        "from sklearn.preprocessing import StandardScaler\n",
        "sc = StandardScaler()\n",
        "x_train[:, [11,13,14]] = sc.fit_transform(x_train[:, [11,13,14]])\n",
        "x_test[:, [11,13,14]] = sc.transform(x_test[:, [11,13,14]])"
      ],
      "execution_count": 44,
      "outputs": []
    },
    {
      "cell_type": "code",
      "metadata": {
        "id": "DU1L1bjtAkEC",
        "outputId": "166d1143-9407-4d2e-8a36-93778ba72100",
        "colab": {
          "base_uri": "https://localhost:8080/",
          "height": 70
        }
      },
      "source": [
        "print(x_train[0])"
      ],
      "execution_count": 45,
      "outputs": [
        {
          "output_type": "stream",
          "text": [
            "[1.         0.         0.         0.         0.         1.\n",
            " 0.         1.         1.         0.         0.         0.28761095\n",
            " 1.         0.59274834 1.4305868 ]\n"
          ],
          "name": "stdout"
        }
      ]
    },
    {
      "cell_type": "code",
      "metadata": {
        "id": "FT39lBPUWZ4j",
        "outputId": "52a92400-4513-40cf-c793-e4fe6382342f",
        "colab": {
          "base_uri": "https://localhost:8080/",
          "height": 263
        }
      },
      "source": [
        "print(y_train)"
      ],
      "execution_count": 46,
      "outputs": [
        {
          "output_type": "stream",
          "text": [
            "[0 1 1 1 0 0 1 0 1 1 1 0 1 1 1 1 0 1 1 0 0 1 1 1 0 1 1 1 1 0 0 1 1 1 1 0 0\n",
            " 1 0 1 1 1 1 1 1 0 1 0 0 0 0 1 1 1 0 1 0 1 1 1 1 0 0 1 1 1 1 0 1 0 1 1 1 1\n",
            " 0 0 0 0 1 1 1 1 1 0 1 1 0 0 1 0 0 1 1 0 1 1 1 1 1 1 0 1 1 1 0 1 1 1 1 0 1\n",
            " 1 1 1 0 0 1 0 1 1 1 0 1 1 1 1 1 1 1 1 0 1 0 0 1 1 1 1 1 1 0 1 1 0 0 1 1 1\n",
            " 1 0 1 1 1 0 0 0 1 1 1 1 1 1 1 0 1 0 1 1 1 1 0 1 0 1 0 1 1 1 1 1 1 1 1 1 1\n",
            " 1 0 1 1 1 1 1 0 1 0 1 1 0 0 1 1 1 1 0 1 1 0 1 0 0 1 1 1 1 1 0 1 1 0 0 1 1\n",
            " 1 1 1 0 1 1 0 1 1 0 1 1 1 1 0 0 1 1 0 1 0 1 1 1 1 0 1 1 1 1 1 1 0 1 1 1 1\n",
            " 0 1 1 0 0 1 1 1 1 0 1 0 1 1 0 1 1 1 0 1 0 1 1 1 1 0 1 0 1 1 1 1 0 1 0 0 1\n",
            " 1 1 0 0 1 0 1 1 1 1 1 0 0 1 0 0 1 1 1 1 1 0 1 0 1 1 1 1 1 1 1 1 0 0 1 1 1\n",
            " 1 1 1 0 1 1 1 0 1 1 1 1 0 1 1 0 0 1 1 1 0 1 1 0 0 1 1 1 0 1 0 1 1 1 1 0 1\n",
            " 0 1 1 0 0 1 1 1 0 0 1 0 1 1 1 1 1 1 1 1 1 1 0 1 1 1 1 1 0 0 1 1 1 1 0 0 0\n",
            " 0 0 1 0 1 1 0 1 1 1 0 0 1 1 0 1 1 1 1 1 0 0 1 1 1 0 0 1 1 0 1 1 1 0 1 1 0\n",
            " 1 0 0 1 0 1 0 1 1 1 1 1 1 1 1 1 0 1 1 1 1 1 1 0 1 1 0 1 1 1 1 0 1 1 1 1 1\n",
            " 1 1 0 1 0 1 1 1 1 1]\n"
          ],
          "name": "stdout"
        }
      ]
    },
    {
      "cell_type": "markdown",
      "metadata": {
        "id": "9cOiYkzSHePf"
      },
      "source": [
        "# **Model Training**"
      ]
    },
    {
      "cell_type": "code",
      "metadata": {
        "id": "q79usWoiHtCh"
      },
      "source": [
        "from sklearn.metrics import accuracy_score, confusion_matrix, precision_score, recall_score, f1_score\n",
        "def print_score(y_test, y_pred):\n",
        "  print('Accuracy Score : '+str(round(accuracy_score(y_test, y_pred)*100,2))+' %')\n",
        "  print('F1 Score : '+str(round(f1_score(y_test, y_pred)*100,2))+' %')\n",
        "  print('Confusion Matrix : ',confusion_matrix(y_test,y_pred))"
      ],
      "execution_count": 47,
      "outputs": []
    },
    {
      "cell_type": "code",
      "metadata": {
        "id": "GnDDVN9tDFfK",
        "outputId": "89cef5ba-8aa1-498e-e63a-75356f955eae",
        "colab": {
          "base_uri": "https://localhost:8080/",
          "height": 1000
        }
      },
      "source": [
        "from sklearn.linear_model import LogisticRegression\n",
        "lr_classifier = LogisticRegression()\n",
        "lr_classifier.fit(x_train, y_train)\n",
        "\n",
        "y_pred_lr = lr_classifier.predict(x_test)\n",
        "y_proba_lr = lr_classifier.predict_proba(x_test)\n",
        "print_score(y_test, y_pred_lr)\n",
        "print(y_proba_lr)"
      ],
      "execution_count": 48,
      "outputs": [
        {
          "output_type": "stream",
          "text": [
            "Accuracy Score : 78.86 %\n",
            "F1 Score : 85.87 %\n",
            "Confusion Matrix :  [[18 25]\n",
            " [ 1 79]]\n",
            "[[0.1229001  0.8770999 ]\n",
            " [0.10901556 0.89098444]\n",
            " [0.19126137 0.80873863]\n",
            " [0.29290003 0.70709997]\n",
            " [0.1560683  0.8439317 ]\n",
            " [0.29863199 0.70136801]\n",
            " [0.08304449 0.91695551]\n",
            " [0.14633974 0.85366026]\n",
            " [0.25238223 0.74761777]\n",
            " [0.24039092 0.75960908]\n",
            " [0.64640974 0.35359026]\n",
            " [0.23952608 0.76047392]\n",
            " [0.0944278  0.9055722 ]\n",
            " [0.22070064 0.77929936]\n",
            " [0.11329844 0.88670156]\n",
            " [0.17038569 0.82961431]\n",
            " [0.25758486 0.74241514]\n",
            " [0.17863524 0.82136476]\n",
            " [0.15910859 0.84089141]\n",
            " [0.09148562 0.90851438]\n",
            " [0.20242702 0.79757298]\n",
            " [0.09710547 0.90289453]\n",
            " [0.11068501 0.88931499]\n",
            " [0.17440565 0.82559435]\n",
            " [0.23295699 0.76704301]\n",
            " [0.35867367 0.64132633]\n",
            " [0.37532911 0.62467089]\n",
            " [0.19022701 0.80977299]\n",
            " [0.30557358 0.69442642]\n",
            " [0.12519276 0.87480724]\n",
            " [0.12258303 0.87741697]\n",
            " [0.08378399 0.91621601]\n",
            " [0.12484579 0.87515421]\n",
            " [0.28555731 0.71444269]\n",
            " [0.35906759 0.64093241]\n",
            " [0.92706231 0.07293769]\n",
            " [0.20785303 0.79214697]\n",
            " [0.14796106 0.85203894]\n",
            " [0.0752891  0.9247109 ]\n",
            " [0.16490108 0.83509892]\n",
            " [0.31039336 0.68960664]\n",
            " [0.32255531 0.67744469]\n",
            " [0.2814649  0.7185351 ]\n",
            " [0.21488772 0.78511228]\n",
            " [0.2627539  0.7372461 ]\n",
            " [0.1062135  0.8937865 ]\n",
            " [0.29430321 0.70569679]\n",
            " [0.85188275 0.14811725]\n",
            " [0.89200646 0.10799354]\n",
            " [0.83093491 0.16906509]\n",
            " [0.32927755 0.67072245]\n",
            " [0.18571245 0.81428755]\n",
            " [0.87862238 0.12137762]\n",
            " [0.37586767 0.62413233]\n",
            " [0.20742092 0.79257908]\n",
            " [0.23506692 0.76493308]\n",
            " [0.31914577 0.68085423]\n",
            " [0.28934967 0.71065033]\n",
            " [0.92813274 0.07186726]\n",
            " [0.09554983 0.90445017]\n",
            " [0.79016762 0.20983238]\n",
            " [0.15708005 0.84291995]\n",
            " [0.83538064 0.16461936]\n",
            " [0.23434197 0.76565803]\n",
            " [0.14568359 0.85431641]\n",
            " [0.30038721 0.69961279]\n",
            " [0.12507295 0.87492705]\n",
            " [0.09776681 0.90223319]\n",
            " [0.13229673 0.86770327]\n",
            " [0.24929242 0.75070758]\n",
            " [0.92666009 0.07333991]\n",
            " [0.16276175 0.83723825]\n",
            " [0.10411513 0.89588487]\n",
            " [0.19643976 0.80356024]\n",
            " [0.73083888 0.26916112]\n",
            " [0.15643747 0.84356253]\n",
            " [0.21425766 0.78574234]\n",
            " [0.92332461 0.07667539]\n",
            " [0.8992476  0.1007524 ]\n",
            " [0.1632805  0.8367195 ]\n",
            " [0.17327103 0.82672897]\n",
            " [0.16501147 0.83498853]\n",
            " [0.08395472 0.91604528]\n",
            " [0.11708069 0.88291931]\n",
            " [0.21074985 0.78925015]\n",
            " [0.10484399 0.89515601]\n",
            " [0.30014198 0.69985802]\n",
            " [0.68695738 0.31304262]\n",
            " [0.21935765 0.78064235]\n",
            " [0.18645012 0.81354988]\n",
            " [0.10109896 0.89890104]\n",
            " [0.92749193 0.07250807]\n",
            " [0.83461701 0.16538299]\n",
            " [0.16757629 0.83242371]\n",
            " [0.11210612 0.88789388]\n",
            " [0.17104423 0.82895577]\n",
            " [0.26128184 0.73871816]\n",
            " [0.09214891 0.90785109]\n",
            " [0.27544869 0.72455131]\n",
            " [0.34516716 0.65483284]\n",
            " [0.10100062 0.89899938]\n",
            " [0.14873828 0.85126172]\n",
            " [0.40893275 0.59106725]\n",
            " [0.22510006 0.77489994]\n",
            " [0.33253755 0.66746245]\n",
            " [0.88946724 0.11053276]\n",
            " [0.21173245 0.78826755]\n",
            " [0.73240346 0.26759654]\n",
            " [0.20937592 0.79062408]\n",
            " [0.23621556 0.76378444]\n",
            " [0.42785398 0.57214602]\n",
            " [0.9430409  0.0569591 ]\n",
            " [0.21680402 0.78319598]\n",
            " [0.32601735 0.67398265]\n",
            " [0.1729679  0.8270321 ]\n",
            " [0.39265576 0.60734424]\n",
            " [0.18104536 0.81895464]\n",
            " [0.23877032 0.76122968]\n",
            " [0.1657559  0.8342441 ]\n",
            " [0.27539598 0.72460402]\n",
            " [0.14489844 0.85510156]\n",
            " [0.14436011 0.85563989]\n",
            " [0.23883721 0.76116279]]\n"
          ],
          "name": "stdout"
        }
      ]
    },
    {
      "cell_type": "markdown",
      "metadata": {
        "id": "IF4RWSI_Hxx5"
      },
      "source": [
        "# **Predicting the Test Set**"
      ]
    },
    {
      "cell_type": "markdown",
      "metadata": {
        "id": "VfErE-OwA42Z"
      },
      "source": [
        "Training using Logistic Regression on whole dataset"
      ]
    },
    {
      "cell_type": "code",
      "metadata": {
        "id": "Xd8ydX10BKMB"
      },
      "source": [
        "x_whole = x\n",
        "y_whole = y"
      ],
      "execution_count": 49,
      "outputs": []
    },
    {
      "cell_type": "code",
      "metadata": {
        "id": "QqWBS5rlA9it"
      },
      "source": [
        "from sklearn.preprocessing import StandardScaler\n",
        "sc_whole = StandardScaler()\n",
        "x_whole[:, [11,13,14]] = sc_whole.fit_transform(x_whole[:, [11,13,14]])"
      ],
      "execution_count": 50,
      "outputs": []
    },
    {
      "cell_type": "code",
      "metadata": {
        "id": "oSv_DESMBUpL",
        "outputId": "a3b1c9ed-9ffb-4ccf-9391-684381c3aeee",
        "colab": {
          "base_uri": "https://localhost:8080/",
          "height": 105
        }
      },
      "source": [
        "final_model = LogisticRegression()\n",
        "final_model.fit(x_whole, y_whole)"
      ],
      "execution_count": 51,
      "outputs": [
        {
          "output_type": "execute_result",
          "data": {
            "text/plain": [
              "LogisticRegression(C=1.0, class_weight=None, dual=False, fit_intercept=True,\n",
              "                   intercept_scaling=1, l1_ratio=None, max_iter=100,\n",
              "                   multi_class='auto', n_jobs=None, penalty='l2',\n",
              "                   random_state=None, solver='lbfgs', tol=0.0001, verbose=0,\n",
              "                   warm_start=False)"
            ]
          },
          "metadata": {
            "tags": []
          },
          "execution_count": 51
        }
      ]
    },
    {
      "cell_type": "markdown",
      "metadata": {
        "id": "PYgBKgvQDOJc"
      },
      "source": [
        "Processing the Test data for predictions"
      ]
    },
    {
      "cell_type": "code",
      "metadata": {
        "id": "jKCSQoORBkCi",
        "outputId": "c342dbb0-8f93-4bf5-c32e-48e6d2ac5115",
        "colab": {
          "base_uri": "https://localhost:8080/",
          "height": 195
        }
      },
      "source": [
        "dataset_test.head(5)"
      ],
      "execution_count": 53,
      "outputs": [
        {
          "output_type": "execute_result",
          "data": {
            "text/html": [
              "<div>\n",
              "<style scoped>\n",
              "    .dataframe tbody tr th:only-of-type {\n",
              "        vertical-align: middle;\n",
              "    }\n",
              "\n",
              "    .dataframe tbody tr th {\n",
              "        vertical-align: top;\n",
              "    }\n",
              "\n",
              "    .dataframe thead th {\n",
              "        text-align: right;\n",
              "    }\n",
              "</style>\n",
              "<table border=\"1\" class=\"dataframe\">\n",
              "  <thead>\n",
              "    <tr style=\"text-align: right;\">\n",
              "      <th></th>\n",
              "      <th>Loan_ID</th>\n",
              "      <th>Gender</th>\n",
              "      <th>Married</th>\n",
              "      <th>Dependents</th>\n",
              "      <th>Education</th>\n",
              "      <th>Self_Employed</th>\n",
              "      <th>Loan_Amount_Term</th>\n",
              "      <th>Credit_History</th>\n",
              "      <th>Property_Area</th>\n",
              "      <th>TotalIncome_log</th>\n",
              "      <th>LoanAmount_log</th>\n",
              "    </tr>\n",
              "  </thead>\n",
              "  <tbody>\n",
              "    <tr>\n",
              "      <th>0</th>\n",
              "      <td>LP001015</td>\n",
              "      <td>Male</td>\n",
              "      <td>Yes</td>\n",
              "      <td>0</td>\n",
              "      <td>Graduate</td>\n",
              "      <td>No</td>\n",
              "      <td>360.0</td>\n",
              "      <td>1.0</td>\n",
              "      <td>Urban</td>\n",
              "      <td>8.651724</td>\n",
              "      <td>4.700480</td>\n",
              "    </tr>\n",
              "    <tr>\n",
              "      <th>1</th>\n",
              "      <td>LP001022</td>\n",
              "      <td>Male</td>\n",
              "      <td>Yes</td>\n",
              "      <td>1</td>\n",
              "      <td>Graduate</td>\n",
              "      <td>No</td>\n",
              "      <td>360.0</td>\n",
              "      <td>1.0</td>\n",
              "      <td>Urban</td>\n",
              "      <td>8.428581</td>\n",
              "      <td>4.836282</td>\n",
              "    </tr>\n",
              "    <tr>\n",
              "      <th>2</th>\n",
              "      <td>LP001031</td>\n",
              "      <td>Male</td>\n",
              "      <td>Yes</td>\n",
              "      <td>2</td>\n",
              "      <td>Graduate</td>\n",
              "      <td>No</td>\n",
              "      <td>360.0</td>\n",
              "      <td>1.0</td>\n",
              "      <td>Urban</td>\n",
              "      <td>8.824678</td>\n",
              "      <td>5.337538</td>\n",
              "    </tr>\n",
              "    <tr>\n",
              "      <th>3</th>\n",
              "      <td>LP001035</td>\n",
              "      <td>Male</td>\n",
              "      <td>Yes</td>\n",
              "      <td>2</td>\n",
              "      <td>Graduate</td>\n",
              "      <td>No</td>\n",
              "      <td>360.0</td>\n",
              "      <td>1.0</td>\n",
              "      <td>Urban</td>\n",
              "      <td>8.494129</td>\n",
              "      <td>4.605170</td>\n",
              "    </tr>\n",
              "    <tr>\n",
              "      <th>4</th>\n",
              "      <td>LP001051</td>\n",
              "      <td>Male</td>\n",
              "      <td>No</td>\n",
              "      <td>0</td>\n",
              "      <td>Not Graduate</td>\n",
              "      <td>No</td>\n",
              "      <td>360.0</td>\n",
              "      <td>1.0</td>\n",
              "      <td>Urban</td>\n",
              "      <td>8.094378</td>\n",
              "      <td>4.356709</td>\n",
              "    </tr>\n",
              "  </tbody>\n",
              "</table>\n",
              "</div>"
            ],
            "text/plain": [
              "    Loan_ID Gender Married  ... Property_Area TotalIncome_log LoanAmount_log\n",
              "0  LP001015   Male     Yes  ...         Urban        8.651724       4.700480\n",
              "1  LP001022   Male     Yes  ...         Urban        8.428581       4.836282\n",
              "2  LP001031   Male     Yes  ...         Urban        8.824678       5.337538\n",
              "3  LP001035   Male     Yes  ...         Urban        8.494129       4.605170\n",
              "4  LP001051   Male      No  ...         Urban        8.094378       4.356709\n",
              "\n",
              "[5 rows x 11 columns]"
            ]
          },
          "metadata": {
            "tags": []
          },
          "execution_count": 53
        }
      ]
    },
    {
      "cell_type": "code",
      "metadata": {
        "id": "N892wiRpDUBi"
      },
      "source": [
        "test_data = dataset_test.iloc[:, 1:].values"
      ],
      "execution_count": 52,
      "outputs": []
    },
    {
      "cell_type": "code",
      "metadata": {
        "id": "0PnNIVi1Dhkv",
        "outputId": "fe485296-6980-4495-88da-244b9b542b28",
        "colab": {
          "base_uri": "https://localhost:8080/",
          "height": 140
        }
      },
      "source": [
        "print(test_data)"
      ],
      "execution_count": 54,
      "outputs": [
        {
          "output_type": "stream",
          "text": [
            "[['Male' 'Yes' '0' ... 'Urban' 8.651724084373843 4.700480365792417]\n",
            " ['Male' 'Yes' '1' ... 'Urban' 8.428580533059634 4.836281906951478]\n",
            " ['Male' 'Yes' '2' ... 'Urban' 8.824677891164198 5.337538079701318]\n",
            " ...\n",
            " ['Male' 'No' '0' ... 'Semiurban' 8.564649132572534 4.836281906951478]\n",
            " ['Male' 'Yes' '0' ... 'Rural' 8.9082888855571 5.062595033026967]\n",
            " ['Male' 'No' '0' ... 'Rural' 9.126958763037132 4.584967478670572]]\n"
          ],
          "name": "stdout"
        }
      ]
    },
    {
      "cell_type": "code",
      "metadata": {
        "id": "7p5NJVVYDmqe"
      },
      "source": [
        "test_data = np.array(ct.transform(test_data))"
      ],
      "execution_count": 55,
      "outputs": []
    },
    {
      "cell_type": "code",
      "metadata": {
        "id": "_phejwssD_zo"
      },
      "source": [
        "test_data[:, 7] = le_gender.fit_transform(test_data[:, 7])\n",
        "test_data[:, 8] = le_married.fit_transform(test_data[:, 8])\n",
        "test_data[:, 9] = le_education.fit_transform(test_data[:, 9])\n",
        "test_data[:, 10] = le_self_employed.fit_transform(test_data[:, 10])"
      ],
      "execution_count": 56,
      "outputs": []
    },
    {
      "cell_type": "code",
      "metadata": {
        "id": "uRP9cEqNB4LN",
        "outputId": "0c7e92d0-0603-4e62-ab89-49d9e51461f4",
        "colab": {
          "base_uri": "https://localhost:8080/",
          "height": 70
        }
      },
      "source": [
        "print(test_data[0])"
      ],
      "execution_count": 62,
      "outputs": [
        {
          "output_type": "stream",
          "text": [
            "[ 1.          0.          0.          0.          0.          0.\n",
            "  1.          1.          1.          0.          0.          0.2732313\n",
            "  1.         -0.03247818 -0.31632867]\n"
          ],
          "name": "stdout"
        }
      ]
    },
    {
      "cell_type": "code",
      "metadata": {
        "id": "UytI7b_GB7HZ",
        "outputId": "ea6ce219-a075-4c19-bda4-8040e025bfd5",
        "colab": {
          "base_uri": "https://localhost:8080/",
          "height": 70
        }
      },
      "source": [
        "print(x_whole[0])"
      ],
      "execution_count": 63,
      "outputs": [
        {
          "output_type": "stream",
          "text": [
            "[ 1.          0.          0.          0.          0.          0.\n",
            "  1.          1.          0.          0.          0.          0.2732313\n",
            "  1.          0.00846765 -0.01053276]\n"
          ],
          "name": "stdout"
        }
      ]
    },
    {
      "cell_type": "code",
      "metadata": {
        "id": "D06QY4NLEQNr"
      },
      "source": [
        "test_data[:, [11,13,14]] = sc_whole.transform(test_data[:, [11,13,14]])"
      ],
      "execution_count": 60,
      "outputs": []
    },
    {
      "cell_type": "code",
      "metadata": {
        "id": "8aGwg8hNCdql"
      },
      "source": [
        "test_data = np.asarray(test_data).astype(np.float32)"
      ],
      "execution_count": 61,
      "outputs": []
    },
    {
      "cell_type": "markdown",
      "metadata": {
        "id": "_Sc8uz_hFQsE"
      },
      "source": [
        "Predicting the results of Test.csv"
      ]
    },
    {
      "cell_type": "code",
      "metadata": {
        "id": "BhTyw-g8FVKQ"
      },
      "source": [
        "pred_data = final_model.predict(test_data)"
      ],
      "execution_count": 64,
      "outputs": []
    },
    {
      "cell_type": "code",
      "metadata": {
        "id": "EdllGRjVFzzg"
      },
      "source": [
        "pred_data = le_y.inverse_transform(pred_data)"
      ],
      "execution_count": 65,
      "outputs": []
    },
    {
      "cell_type": "markdown",
      "metadata": {
        "id": "AHjnI9IrG5B6"
      },
      "source": [
        "Exporting the .csv file"
      ]
    },
    {
      "cell_type": "code",
      "metadata": {
        "id": "DCQ7JYVKG7--"
      },
      "source": [
        "data = {\"Loan_ID\":dataset_test.iloc[:, 0].values, \"Loan_Status\":pred_data}\n",
        "pd.DataFrame(data).to_csv('./drive/My Drive/Analytics Vidhya Challenges/Loan Prediction/predictions.csv', index=False)"
      ],
      "execution_count": 66,
      "outputs": []
    }
  ]
}